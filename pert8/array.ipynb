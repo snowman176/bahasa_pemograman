{
 "cells": [
  {
   "cell_type": "markdown",
   "metadata": {},
   "source": [
    "ARRAY\n",
    "SET merupakan tipe data kolektif yang digunakan untuk menyimpan multiple values dalam single variabel dengan memenuhi kondisi:\n",
    "* store member values must unique not duplicate\n",
    "* the value of member that has been entered can't be change anymore\n",
    "* set is unordered it's can't be access by index"
   ]
  },
  {
   "cell_type": "code",
   "execution_count": 2,
   "metadata": {},
   "outputs": [
    {
     "name": "stdout",
     "output_type": "stream",
     "text": [
      "{'mangga', 'apel'}\n",
      "{True, 'man', 'lono', 5, ('A', 'B')}\n"
     ]
    }
   ],
   "source": [
    "# convert list info set\n",
    "fruit_set = set(['mangga', 'apel'])\n",
    "print(fruit_set)\n",
    "\n",
    "# set with different data types\n",
    "set_mix = {'man', 'lono', 5, True, ('A', 'B')}\n",
    "print(set_mix)"
   ]
  },
  {
   "cell_type": "markdown",
   "metadata": {},
   "source": [
    "1. DEFINISI\n",
    "    Struktur data adalah cara untuk menyimpan, mengatur, mengelompokkan, dan merepresentasikan data. Struktur data sangat penting dan harus dikuasai oleh seorang programmer. Array (dalam python) merupakan Struktur Data yang digunakan untuk menyimpan dan mengatur kumpulan data."
   ]
  },
  {
   "cell_type": "markdown",
   "metadata": {},
   "source": [
    "2. SET\n",
    "    Set dalam Python merupakan tipe data kolektif yang digunakan untuk menyimpan beberapa nilai dalam satu variabel dengan kondisi berikut:\n",
    "    * Nilai yang disimpan harus unik (tidak boleh ada duplikasi).\n",
    "    * Nilai yang sudah dimasukkan tidak bisa diubah lagi.\n",
    "    * Set tidak berurutan, sehingga tidak bisa diakses menggunakan indeks.\n",
    "\n",
    "    Bentuk umum dari Set:   "
   ]
  },
  {
   "cell_type": "code",
   "execution_count": null,
   "metadata": {},
   "outputs": [],
   "source": [
    "# Menggunakan kurung kurawal '{}':\n",
    "student_set = {'Huda', 'Lendis', 'Wahid', 'Basith'}\n",
    "print(student_set)\n",
    "\n",
    "# Mengubah list menjadi set:\n",
    "fruit_set = set(['mango', 'Apple'])\n",
    "print(fruit_set)\n",
    "\n",
    "# Set dengan tipe data yang berbeda:\n",
    "set_mix = {'man', 'animal', 5, True, ('A', 'B')}\n",
    "print(set_mix)"
   ]
  },
  {
   "cell_type": "markdown",
   "metadata": {},
   "source": [
    "a. Set Tidak Berurutan\n",
    "    \n",
    "    Set tidak memiliki urutan, artinya kita tidak bisa menggunakan indeks untuk mengakses nilai di dalam set."
   ]
  },
  {
   "cell_type": "code",
   "execution_count": null,
   "metadata": {},
   "outputs": [],
   "source": [
    "my_set = {'a'}\n",
    "print(my_set[0])  # Akan menghasilkan error"
   ]
  },
  {
   "cell_type": "markdown",
   "metadata": {},
   "source": [
    "b. Set Tidak Bisa Diubah\n",
    "\n",
    "Nilai dalam set tidak bisa diubah, namun kita bisa menambah atau menghapus anggota dari set."
   ]
  },
  {
   "cell_type": "code",
   "execution_count": null,
   "metadata": {},
   "outputs": [],
   "source": [
    "set_fruit = {'mango', 'lemon', 'avocado', True, 1, 2, 3}\n",
    "\n",
    "keyboard_= {\n",
    "    (1, 2, 3),\n",
    "    (4, 5, 6),\n",
    "    (7, 8, 9),\n",
    "    (0)\n",
    "}"
   ]
  },
  {
   "cell_type": "markdown",
   "metadata": {},
   "source": [
    "* Contoh yang bisa dilakukan:"
   ]
  },
  {
   "cell_type": "code",
   "execution_count": null,
   "metadata": {},
   "outputs": [],
   "source": [
    "x = set(35, 100, ['a', 'b'])"
   ]
  },
  {
   "cell_type": "markdown",
   "metadata": {},
   "source": [
    "c. Set Tidak Ada Nilai Duplikat\n",
    "\n",
    "Set tidak menerima nilai duplikat. Jika kita memasukkan nilai yang sudah ada, nilai tersebut hanya akan muncul sekali."
   ]
  },
  {
   "cell_type": "code",
   "execution_count": null,
   "metadata": {},
   "outputs": [],
   "source": [
    "unique_word = {'morning', 'this', 'is', 'morning', 'which', 'very', 'bright'}\n",
    "print(unique_word)"
   ]
  },
  {
   "cell_type": "markdown",
   "metadata": {},
   "source": [
    "d. Menambahkan/Memperbarui Elemen Set\n",
    "Meskipun nilai dalam set tidak dapat diubah, kita tetap bisa menambahkan dan menghapus elemen dalam set. Kita bisa menambahkan elemen baru ke set dengan menggunakan fungsi add() dan update(). Contohnya:"
   ]
  },
  {
   "cell_type": "code",
   "execution_count": null,
   "metadata": {},
   "outputs": [],
   "source": [
    "alphabet_set = {'a', 'b', 'c'}\n",
    "print(alphabet_set)\n",
    "\n",
    "# menambahkan satu per satu\n",
    "alphabet_set.add('d')\n",
    "alphabet_set.add('e')\n",
    "\n",
    "# menambahkan lebih dari satu elemen sekaligus\n",
    "alphabet_set.update({'f', 'g'})\n",
    "alphabet_set.update(['h', 'i'])\n",
    "\n",
    "print(alphabet_set)\n"
   ]
  },
  {
   "cell_type": "markdown",
   "metadata": {},
   "source": [
    "e. Menghapus Elemen Set\n",
    "Untuk menghapus elemen dari set, ada 4 fungsi yang dapat digunakan:\n",
    "\n",
    "remove(value) - Menghapus nilai yang dicari. Jika nilai tidak ada, akan muncul error.\n",
    "discard(value) - Menghapus nilai yang dicari. Jika nilai tidak ada, tidak ada error.\n",
    "pop() - Mengambil dan menghapus nilai di sebelah kiri.\n",
    "clear() - Menghapus semua elemen.\n",
    "Contohnya:"
   ]
  },
  {
   "cell_type": "code",
   "execution_count": null,
   "metadata": {},
   "outputs": [],
   "source": [
    "set = {'virtual', 'virtuous', 100, ('a', 'b'), False, True}\n",
    "print(set)\n",
    "\n",
    "# akan error jika nilai 100 tidak ada di set\n",
    "set.remove(100)\n",
    "print(set)\n",
    "\n",
    "# tidak akan error jika ('a', 'b') tidak ada di set\n",
    "set.discard(('a', 'b'))\n",
    "print(set)\n",
    "\n",
    "# menghapus nilai di sebelah kiri\n",
    "Removedvalue = set.pop()\n",
    "print(\"Removed value =\", Removedvalue)\n",
    "print(set)\n",
    "\n",
    "# menghapus semua nilai\n",
    "set.clear()\n",
    "print(set)\n"
   ]
  },
  {
   "cell_type": "markdown",
   "metadata": {},
   "source": [
    "f. Fungsi-fungsi Set\n",
    "Berikut adalah ringkasan fungsi-fungsi bawaan dari tipe data set yang bisa kita gunakan:\n",
    "\n",
    "Fungsi Kegunaan\n",
    "add()\t                        Menambahkan satu anggota ke set\n",
    "clear()\t                        Menghapus seluruh set\n",
    "copy()\t                        Membuat salinan satu set ke set baru\n",
    "difference()\t                Melakukan operasi selisih antara dua set\n",
    "difference_update()\t            Menghapus anggota set lain yang ada di set saat ini\n",
    "discard()\t                    Menghapus satu anggota dari set\n",
    "intersection()\t                Melakukan operasi irisan antara dua set\n",
    "intersection_update()\t        Memperbarui anggota yang merupakan irisan dari dua set\n",
    "isdisjoint()\t                Mengembalikan nilai True jika dua set tidak memiliki irisan\n",
    "issubset()\t                    Mengembalikan nilai True jika set lain memiliki anggota dari set saat ini\n",
    "issuperset()\t                Mengembalikan nilai True jika set saat ini memiliki anggota dari set lain\n",
    "pop()\t                        Mengambil dan menghapus nilai yang dihapus dari set\n",
    "remove()\t                    Menghapus satu nilai dari set\n",
    "symmetric_difference()\t        Melakukan operasi komplemen antar dua set\n",
    "symmetric_difference_update()\tMengupdate set dari hasil komplemen\n",
    "union()\t                        Melakukan operasi gabungan dari dua atau lebih set\n",
    "update()\t                    Mengupdate set dengan menambahkan suatu nilai tertentu"
   ]
  },
  {
   "cell_type": "markdown",
   "metadata": {},
   "source": [
    "3. Kamus (Dictionary)\n",
    "Pengertian Kamus\n",
    "Dictionary adalah tipe data dalam Python yang digunakan untuk menyimpan kumpulan data/nilai dengan pendekatan \"key-value\". Kamus itu sendiri memiliki dua komponen inti: Kunci (key) dan Nilai (value). Kunci adalah atribut dari sebuah item dalam kamus, sedangkan nilai adalah nilai yang disimpan dalam atribut.\n",
    "\n",
    "Kamus memiliki tiga sifat utama:\n",
    "\n",
    "* Tidak Berurutan (Unordered): Kamus tidak bersifat urutan, jadi kunci/atribut yang kita definisikan pertama, tidak berarti akan menjadi yang pertama dibandingkan kunci lainnya. Kamus juga tidak bisa diakses menggunakan indeks (integer) seperti halnya daftar (list).\n",
    "\n",
    "* Dapat Diubah (Changeable): Kita bisa mengubah nilai yang telah dimasukkan ke dalam kamus. Ini berbeda dari tipe data set dan tuple, yang keduanya tidak bisa diubah atau immutable.\n",
    "\n",
    "* Unik (Unique): Kamus tidak bisa memiliki lebih dari satu kunci yang sama karena kunci harus unik. Jadi jika ada dua kunci yang sama, nilai terakhir yang didefinisikan akan menggantikan nilai yang didefinisikan sebelumnya.\n",
    "\n",
    "a. Membuat Elemen Kamus\n",
    "Cara membuat kamus dalam Python ada dua:\n",
    "\n",
    "Menggunakan kurung kurawal {}.\n",
    "Menggunakan fungsi atau konstruktor dict().\n",
    "Contoh:"
   ]
  },
  {
   "cell_type": "code",
   "execution_count": null,
   "metadata": {},
   "outputs": [],
   "source": [
    "# Cara pertama\n",
    "book = {\n",
    "    \"title\": \"Fall Leaves Never Hate The Wind\",\n",
    "    \"writer\": \"Tere Liye\"\n",
    "}\n",
    "\n",
    "# Cara kedua\n",
    "book = dict(\n",
    "    title=\"Fall Leaves Never Hate The Wind\",\n",
    "    author=\"Tere Liye\"\n",
    ")\n"
   ]
  },
  {
   "cell_type": "markdown",
   "metadata": {},
   "source": [
    "b. Menambah/Memperbarui Elemen Kamus\n",
    "Untuk menambah kunci dan item baru, caranya adalah dengan mengedit item. Jadi, jika kunci yang kita definisikan sudah ada, sistem akan menggantikan item lama dengan item baru, atau mengeditnya. Namun jika kunci yang kita definisikan belum ada, sistem akan menambahkannya sebagai item baru.\n",
    "\n",
    "Contoh:"
   ]
  },
  {
   "cell_type": "code",
   "execution_count": null,
   "metadata": {},
   "outputs": [],
   "source": [
    "student = {\n",
    "    'name': 'Lendis Fabri',\n",
    "    'origin': 'Indonesia'\n",
    "}\n",
    "\n",
    "# Output None\n",
    "print('Hobby:', student.get('hobby'))\n",
    "\n",
    "# Menambah data\n",
    "student['hobby'] = 'Fishing'\n",
    "\n",
    "# Cetak ulang\n",
    "print('Hobby dari {} adalah {}'.format(\n",
    "    student.get('name'),\n",
    "    student.get('hobby')\n",
    "))\n"
   ]
  },
  {
   "cell_type": "markdown",
   "metadata": {},
   "source": [
    "c. Menghapus Elemen Kamus\n",
    "Ada dua cara untuk menghapus item:\n",
    "\n",
    "Menggunakan pernyataan del <dict>[key].\n",
    "Menggunakan fungsi pop().\n",
    "Perbedaan antara keduanya adalah jika kita menggunakan fungsi pop(), kita bisa mendapatkan nilai kembalian dari item yang dihapus.\n",
    "\n",
    "Contoh:"
   ]
  },
  {
   "cell_type": "code",
   "execution_count": null,
   "metadata": {},
   "outputs": [],
   "source": [
    "student = {\n",
    "    'name': 'Wahid Abdullah',\n",
    "    'age': 18,\n",
    "    'origin': 'Indonesia'\n",
    "}\n",
    "\n",
    "del student['name']\n",
    "student.pop('age')\n",
    "student.pop('origin')\n",
    "\n",
    "# Contoh penggunaan pop() yang mengembalikan nilai\n",
    "short_message = {\n",
    "    \"content\": \"THIS MESSAGE CAN ONLY BE READ ONCE!!\"\n",
    "}\n",
    "\n",
    "message_content = short_message.pop('content')\n",
    "\n",
    "# Akses langsung dari kamus\n",
    "print('Isi pesan:', short_message.get('content'))\n",
    "\n",
    "# Akses dari nilai yang disimpan\n",
    "print('Isi pesan:', message_content)\n"
   ]
  },
  {
   "cell_type": "markdown",
   "metadata": {},
   "source": [
    "d. Operator Keanggotaan (Membership Operators)\n",
    "Kita dapat menggunakan operator keanggotaan untuk tipe data kamus di Python.\n",
    "\n",
    "Contoh:"
   ]
  },
  {
   "cell_type": "code",
   "execution_count": null,
   "metadata": {},
   "outputs": [],
   "source": [
    "student = {\n",
    "    'name': 'Inspired Renza'\n",
    "}\n"
   ]
  },
  {
   "cell_type": "code",
   "execution_count": null,
   "metadata": {},
   "outputs": [],
   "source": [
    "print('Apakah variabel siswa memiliki key nama?')\n",
    "print('name' in student)\n",
    "\n",
    "print('\\nApakah variabel siswa TIDAK memiliki key usia?')\n",
    "print('age' not in student)\n"
   ]
  },
  {
   "cell_type": "markdown",
   "metadata": {},
   "source": [
    "e. Fungsi (Dictionary)\n",
    "\n",
    "Berikut adalah ringkasan dari fungsi bawaan Dictionary yang dapat kita gunakan:\n",
    "\n",
    "Fungsi Deskripsi\n",
    "all()\t    Mengembalikan True jika semua key dalam dictionary adalah True (atau jika dictionary kosong).\n",
    "any()\t    Mengembalikan True jika ada key dalam dictionary yang True. Jika dictionary kosong, mengembalikan False.\n",
    "len()   \tMengembalikan panjang (jumlah item) dalam dictionary.\n",
    "cmp()\t    Membandingkan item dari dua dictionary. (Tidak tersedia di Python 3)\n",
    "sorted()\tMengembalikan list yang baru diurutkan dari key dalam dictionary."
   ]
  }
 ],
 "metadata": {
  "kernelspec": {
   "display_name": "base",
   "language": "python",
   "name": "python3"
  },
  "language_info": {
   "codemirror_mode": {
    "name": "ipython",
    "version": 3
   },
   "file_extension": ".py",
   "mimetype": "text/x-python",
   "name": "python",
   "nbconvert_exporter": "python",
   "pygments_lexer": "ipython3",
   "version": "3.11.7"
  }
 },
 "nbformat": 4,
 "nbformat_minor": 2
}
