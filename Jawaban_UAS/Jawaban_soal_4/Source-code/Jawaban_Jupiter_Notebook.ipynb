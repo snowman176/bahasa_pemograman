{
 "cells": [
  {
   "cell_type": "code",
   "execution_count": 2,
   "metadata": {},
   "outputs": [
    {
     "name": "stdout",
     "output_type": "stream",
     "text": [
      "(1, 'Nova', 90)\n",
      "(2, 'Adeeb', 100)\n",
      "(3, 'Nova', 90)\n",
      "(4, 'Adeeb', 100)\n"
     ]
    }
   ],
   "source": [
    "import sqlite3\n",
    "\n",
    "# Membuat koneksi ke database\n",
    "conn = sqlite3.connect('example.db')\n",
    "\n",
    "# Membuat cursor object\n",
    "cursor = conn.cursor()\n",
    "\n",
    "# Membuat tabel\n",
    "cursor.execute('''\n",
    "CREATE TABLE IF NOT EXISTS users (\n",
    "    id INTEGER PRIMARY KEY,\n",
    "    name TEXT,\n",
    "    age INTEGER\n",
    ")\n",
    "''')\n",
    "\n",
    "# Menyimpan perubahan\n",
    "conn.commit()\n",
    "\n",
    "# Menambahkan data\n",
    "cursor.execute('''\n",
    "INSERT INTO users (name, age)\n",
    "VALUES (?, ?)\n",
    "''', ('Nova', 90))\n",
    "\n",
    "cursor.execute('''\n",
    "INSERT INTO users (name, age)\n",
    "VALUES (?, ?)\n",
    "''', ('Adeeb', 100))\n",
    "\n",
    "# Menyimpan perubahan\n",
    "conn.commit()\n",
    "\n",
    "# Mengambil data\n",
    "cursor.execute('SELECT * FROM users')\n",
    "\n",
    "# Mengambil semua baris dari hasil query\n",
    "rows = cursor.fetchall()\n",
    "\n",
    "# Menampilkan data\n",
    "for row in rows:\n",
    "    print(row)\n",
    "\n",
    "# Menutup koneksi\n",
    "conn.close()\n"
   ]
  }
 ],
 "metadata": {
  "kernelspec": {
   "display_name": "Python 3",
   "language": "python",
   "name": "python3"
  },
  "language_info": {
   "codemirror_mode": {
    "name": "ipython",
    "version": 3
   },
   "file_extension": ".py",
   "mimetype": "text/x-python",
   "name": "python",
   "nbconvert_exporter": "python",
   "pygments_lexer": "ipython3",
   "version": "3.11.0rc1"
  }
 },
 "nbformat": 4,
 "nbformat_minor": 2
}
